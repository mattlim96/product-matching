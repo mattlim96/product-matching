{
 "cells": [
  {
   "cell_type": "markdown",
   "source": [
    "# Matching Product Names and Descriptions using FuzzyWuzzy"
   ],
   "metadata": {}
  },
  {
   "cell_type": "code",
   "execution_count": 85,
   "source": [
    "import pandas as pd\r\n",
    "import numpy as np\r\n",
    "import time\r\n",
    "import logging\r\n",
    "from fuzzywuzzy import fuzz,process\r\n",
    " \r\n",
    "pd.set_option('display.max_columns', None)\r\n",
    "pd.set_option('display.max_rows', 100)\r\n",
    "logging.basicConfig(level=logging.INFO)\r\n",
    "logger = logging.getLogger(__name__)"
   ],
   "outputs": [],
   "metadata": {}
  },
  {
   "cell_type": "markdown",
   "source": [
    "Import datasets"
   ],
   "metadata": {}
  },
  {
   "cell_type": "code",
   "execution_count": 86,
   "source": [
    "shopeeList = pd.read_csv('datasets/shp_data.csv')\r\n",
    "\r\n",
    "mappingList = pd.read_csv('datasets/shop_mapping.csv').iloc[:,0:2].astype(int)\r\n",
    "\r\n",
    "lazadaList = pd.read_csv('datasets/lzd_data.csv')\r\n",
    "lazadaList = lazadaList.merge(mappingList,how='left',on='LZD Shop ID')\r\n",
    "\r\n",
    "shopIdList = lazadaList['SHP Shop ID'].dropna().drop_duplicates()\r\n",
    "lzdDict = {shopId: lazadaList[lazadaList['SHP Shop ID'] == shopId] for shopId in shopIdList}\r\n",
    "shpDict = {shopId: shopeeList[shopeeList['SHP Shop ID'] == shopId] for shopId in shopIdList}\r\n",
    "\r\n",
    "correctMatch = pd.read_csv('datasets/correct_match.csv')\r\n",
    "correctMatch = correctMatch[['LZD Item ID','SHP Item Name']]\r\n",
    "correctMatch.columns = ['LZD Item ID','Correct Match - SHP Item Name']"
   ],
   "outputs": [],
   "metadata": {}
  },
  {
   "cell_type": "markdown",
   "source": [
    "New Matching Logic: Applies both Token Sort and Token Set from FuzzyWuzzy package"
   ],
   "metadata": {}
  },
  {
   "cell_type": "code",
   "execution_count": 87,
   "source": [
    "def newFuzzMatcher(lzdInfo,shpInfoDf):\r\n",
    "  mainArr = []\r\n",
    "  lzdShopId=lzdInfo[0];lzdItemId=lzdInfo[1];lzdItemName=lzdInfo[2];lzdItemDesc=lzdInfo[3];shpShopId=lzdInfo[4]\r\n",
    "  shpInfo = shpInfoDf.values.tolist()\r\n",
    "\r\n",
    "  for i in range(len(shpInfo)):\r\n",
    "    shpItemId=shpInfo[i][1];shpItemName=shpInfo[i][2];shpItemDesc=shpInfo[i][3]\r\n",
    "    if lzdItemDesc == 'None':\r\n",
    "      tknSortNameScore = fuzz.token_sort_ratio(lzdItemName, shpItemName)\r\n",
    "      tknSetNameScore = fuzz.token_set_ratio(lzdItemName, shpItemName)\r\n",
    "      tknSortDescScore = 0\r\n",
    "      tknSetDescScore = 0\r\n",
    "    else:\r\n",
    "      tknSortNameScore = fuzz.token_sort_ratio(lzdItemName, shpItemName)\r\n",
    "      tknSetNameScore = fuzz.token_set_ratio(lzdItemName, shpItemName)\r\n",
    "      tknSortDescScore = fuzz.token_sort_ratio(lzdItemDesc, shpItemDesc)\r\n",
    "      tknSetDescScore = fuzz.token_set_ratio(lzdItemDesc, shpItemDesc)\r\n",
    "    overallScore = tknSortNameScore + tknSetNameScore + tknSortDescScore + tknSetDescScore\r\n",
    "    mainArr.append([lzdShopId,lzdItemId,lzdItemName,lzdItemDesc,shpShopId,shpItemId,shpItemName,shpItemDesc,\r\n",
    "                    tknSortNameScore,tknSetNameScore,tknSortDescScore,tknSetDescScore,overallScore])\r\n",
    "  lastColIndex = len(mainArr[0])-1\r\n",
    "  toDf = pd.DataFrame(mainArr)\r\n",
    "  rankedDf = toDf.sort_values(by=lastColIndex,ascending=False)\r\n",
    "  toReturn = rankedDf.head(2).values.tolist()[0]\r\n",
    "\r\n",
    "  return toReturn\r\n",
    "\r\n",
    "startTime = time.time()\r\n",
    "# Matching\r\n",
    "appendList1 = []\r\n",
    "logger.info('Start matching...')\r\n",
    "for shopId in shopIdList:\r\n",
    "  logger.info('Matching Shop ID: {}'.format(shopId))\r\n",
    "  lzdDf = lzdDict[shopId]\r\n",
    "  shpDf = shpDict[shopId]\r\n",
    "\r\n",
    "  for lzdIndex in range(len(lzdDf)):\r\n",
    "    lzdInfo = lzdDf.iloc[lzdIndex].values.tolist()\r\n",
    "    appendList1.append(newFuzzMatcher(lzdInfo, shpDf))\r\n",
    "\r\n",
    "toList = list(filter(None.__ne__, appendList1))\r\n",
    "logger.info('Done matching...')\r\n",
    "newLogicDf = pd.DataFrame(toList,columns=['LZD Shop ID','LZD Item ID','LZD Item Name','LZD Item Description','SHP Shop ID','SHP Item ID','SHP Item Name','SHP Item Description',\r\n",
    "                                          'Token Sort Name Score','Token Set Name Score','Token Sort Desc Score','Token Set Desc Score','Overall Score'])\r\n",
    "\r\n",
    "endTime = time.time()\r\n",
    "totalTime = endTime - startTime\r\n",
    "logger.info(f'Time Elapsed: {time.strftime(\"%H:%M:%S\", time.gmtime(totalTime))}')\r\n",
    "\r\n",
    "newLogicResult = newLogicDf.merge(correctMatch,how='left',on='LZD Item ID')\r\n",
    "newLogicResult['Test Result'] = np.where(newLogicResult['SHP Item Name'] == newLogicResult['Correct Match - SHP Item Name'], 'Pass', 'Fail')"
   ],
   "outputs": [
    {
     "output_type": "stream",
     "name": "stderr",
     "text": [
      "INFO:__main__:Start matching...\n",
      "INFO:__main__:Matching Shop ID: 26704352\n",
      "INFO:__main__:Matching Shop ID: 48225853\n",
      "INFO:__main__:Matching Shop ID: 17492625\n",
      "INFO:__main__:Done matching...\n",
      "INFO:__main__:Time Elapsed: 00:01:02\n"
     ]
    }
   ],
   "metadata": {}
  },
  {
   "cell_type": "markdown",
   "source": [
    "Old Matching Logic: Only applies Token Sort from FuzzyWuzzy package"
   ],
   "metadata": {}
  },
  {
   "cell_type": "code",
   "execution_count": 88,
   "source": [
    "def oldFuzzMatcher(lzdInfo,shpInfoDf):\r\n",
    "  mainArr = []\r\n",
    "  lzdShopId=lzdInfo[0];lzdItemId=lzdInfo[1];lzdItemName=lzdInfo[2];lzdItemDesc=lzdInfo[3];shpShopId=lzdInfo[4]\r\n",
    "  shpInfo = shpInfoDf.values.tolist()\r\n",
    "  for i in range(len(shpInfo)):\r\n",
    "    shpItemId=shpInfo[i][1];shpItemName=shpInfo[i][2];shpItemDesc=shpInfo[i][3]\r\n",
    "    tknSortNameScore = fuzz.token_sort_ratio(lzdItemName, shpItemName)\r\n",
    "    tknSetNameScore = 0\r\n",
    "    tknSortDescScore = 0\r\n",
    "    tknSetDescScore = 0\r\n",
    "\r\n",
    "    overallScore = tknSortNameScore + tknSetNameScore + tknSortDescScore + tknSetDescScore\r\n",
    "    mainArr.append([lzdShopId,lzdItemId,lzdItemName,lzdItemDesc,shpShopId,shpItemId,shpItemName,shpItemDesc,\r\n",
    "                    tknSortNameScore,tknSetNameScore,tknSortDescScore,tknSetDescScore,overallScore])\r\n",
    "\r\n",
    "  lastColIndex = len(mainArr[0])-1\r\n",
    "  toDf = pd.DataFrame(mainArr)\r\n",
    "  rankedDf = toDf.sort_values(by=lastColIndex,ascending=False)\r\n",
    "  toReturn = rankedDf.head(2).values.tolist()[0]\r\n",
    "\r\n",
    "  return toReturn\r\n",
    "\r\n",
    "startTime = time.time()\r\n",
    "# Matching\r\n",
    "appendList2 = []\r\n",
    "logger.info('Start matching...')\r\n",
    "for shopId in shopIdList:\r\n",
    "  logger.info('Matching Shop ID: {}'.format(shopId))\r\n",
    "  lzdDf = lzdDict[shopId]\r\n",
    "  shpDf = shpDict[shopId]\r\n",
    "\r\n",
    "  for lzdIndex in range(len(lzdDf)):\r\n",
    "    lzdInfo = lzdDf.iloc[lzdIndex].values.tolist()\r\n",
    "    appendList2.append(oldFuzzMatcher(lzdInfo, shpDf))\r\n",
    "\r\n",
    "toList = list(filter(None.__ne__, appendList2))\r\n",
    "logger.info('Done matching...')\r\n",
    "oldLogicDf = pd.DataFrame(toList,columns=['LZD Shop ID','LZD Item ID','LZD Item Name','LZD Item Description','SHP Shop ID','SHP Item ID','SHP Item Name','SHP Item Description',\r\n",
    "                                          'Token Sort Name Score','Token Set Name Score','Token Sort Desc Score','Token Set Desc Score','Overall Score'])\r\n",
    "endTime = time.time()\r\n",
    "totalTime = endTime - startTime\r\n",
    "logger.info(f'Time Elapsed: {time.strftime(\"%H:%M:%S\", time.gmtime(totalTime))}')\r\n",
    "\r\n",
    "oldLogicResult = oldLogicDf.merge(correctMatch,how='left',on='LZD Item ID')\r\n",
    "oldLogicResult['Test Result'] = np.where(oldLogicResult['SHP Item Name'] == oldLogicResult['Correct Match - SHP Item Name'], 'Pass', 'Fail')"
   ],
   "outputs": [
    {
     "output_type": "stream",
     "name": "stderr",
     "text": [
      "INFO:__main__:Start matching...\n",
      "INFO:__main__:Matching Shop ID: 26704352\n",
      "INFO:__main__:Matching Shop ID: 48225853\n",
      "INFO:__main__:Matching Shop ID: 17492625\n",
      "INFO:__main__:Done matching...\n",
      "INFO:__main__:Time Elapsed: 00:00:01\n"
     ]
    }
   ],
   "metadata": {}
  },
  {
   "cell_type": "markdown",
   "source": [
    "Comparison between New Logic and Old Logic"
   ],
   "metadata": {}
  },
  {
   "cell_type": "code",
   "execution_count": 90,
   "source": [
    "newLogic_succesRate = round(sum(newLogicResult['Test Result'] == 'Pass')/52*100)\r\n",
    "oldLogic_succesRate = round(sum(oldLogicResult['Test Result'] == 'Pass')/52*100)\r\n",
    "perc_diff = newLogic_succesRate - oldLogic_succesRate\r\n",
    "\r\n",
    "print('New Logic Matching Succes Rate: {}%'.format(newLogic_succesRate))\r\n",
    "print('Old Logic Matching Succes Rate: {}%'.format(oldLogic_succesRate))\r\n",
    "print('Conclusion: New Logic is more accurate by {}% against Old Logic'.format(perc_diff))"
   ],
   "outputs": [
    {
     "output_type": "stream",
     "name": "stdout",
     "text": [
      "New Logic Matching Succes Rate: 87%\n",
      "Old Logic Matching Succes Rate: 71%\n",
      "Conclusion: New Logic is more accurate by 16% against Old Logic\n"
     ]
    }
   ],
   "metadata": {}
  }
 ],
 "metadata": {
  "orig_nbformat": 4,
  "language_info": {
   "name": "python",
   "version": "3.8.6",
   "mimetype": "text/x-python",
   "codemirror_mode": {
    "name": "ipython",
    "version": 3
   },
   "pygments_lexer": "ipython3",
   "nbconvert_exporter": "python",
   "file_extension": ".py"
  },
  "kernelspec": {
   "name": "python3",
   "display_name": "Python 3.8.6 64-bit"
  },
  "interpreter": {
   "hash": "feb4888d85956e850602a086038c0f605a818d77414ee55858e3fc9848402cbb"
  }
 },
 "nbformat": 4,
 "nbformat_minor": 2
}